{
 "cells": [
  {
   "cell_type": "markdown",
   "metadata": {},
   "source": [
    "xpath = [\n",
    "    //a[@class='fz14']/@href   # 获取论文列表\n",
    "    //a[@id='pdfDown']/@href    # 获取单个论文pdf下载链接\n",
    "    //h1/text()     # 获取单个论文标题\n",
    "]"
   ]
  },
  {
   "cell_type": "code",
   "execution_count": 17,
   "metadata": {},
   "outputs": [
    {
     "data": {
      "text/plain": [
       "['https://vpn.gufe.edu.cn/https/77726476706e69737468656265737421fbf952d2243e635930068cb8/kns8/Detail?sfield=fn&QueryID=27&CurRec=13&DbCode=CJFD&dbname=CJFDLAST2021&filename=DDYI202124084&urlid=&yx=',\n",
       " 'https://vpn.gufe.edu.cn/https/77726476706e69737468656265737421fbf952d2243e635930068cb8/kns8/Detail?sfield=fn&QueryID=27&CurRec=14&DbCode=CJFD&dbname=CJFDLAST2021&filename=NZYX202103019&urlid=&yx=',\n",
       " 'https://vpn.gufe.edu.cn/https/77726476706e69737468656265737421fbf952d2243e635930068cb8/kns8/Detail?sfield=fn&QueryID=27&CurRec=15&DbCode=CJFD&dbname=CJFDLAST2021&filename=TAIY202104038&urlid=&yx=',\n",
       " 'https://vpn.gufe.edu.cn/https/77726476706e69737468656265737421fbf952d2243e635930068cb8/kns8/Detail?sfield=fn&QueryID=27&CurRec=16&DbCode=CJFD&dbname=CJFDLAST2021&filename=ZJYX202103020&urlid=&yx=',\n",
       " 'https://vpn.gufe.edu.cn/https/77726476706e69737468656265737421fbf952d2243e635930068cb8/kns8/Detail?sfield=fn&QueryID=27&CurRec=17&DbCode=CJFD&dbname=CJFDLAST2020&filename=JYJU202046151&urlid=&yx=',\n",
       " 'https://vpn.gufe.edu.cn/https/77726476706e69737468656265737421fbf952d2243e635930068cb8/kns8/Detail?sfield=fn&QueryID=27&CurRec=18&DbCode=CJFD&dbname=CJFDLAST2020&filename=CBLY202023085&urlid=&yx=',\n",
       " 'https://vpn.gufe.edu.cn/https/77726476706e69737468656265737421fbf952d2243e635930068cb8/kns8/Detail?sfield=fn&QueryID=27&CurRec=19&DbCode=CJFD&dbname=CJFDLAST2020&filename=AGDX202002007&urlid=&yx=',\n",
       " 'https://vpn.gufe.edu.cn/https/77726476706e69737468656265737421fbf952d2243e635930068cb8/kns8/Detail?sfield=fn&QueryID=27&CurRec=20&DbCode=CJFD&dbname=CJFDLAST2020&filename=HLXZ202006020&urlid=&yx=',\n",
       " 'https://vpn.gufe.edu.cn/https/77726476706e69737468656265737421fbf952d2243e635930068cb8/kns8/Detail?sfield=fn&QueryID=27&CurRec=21&DbCode=CJFD&dbname=CJFDLAST2020&filename=BHYJ201906002&urlid=&yx=',\n",
       " 'https://vpn.gufe.edu.cn/https/77726476706e69737468656265737421fbf952d2243e635930068cb8/kns8/Detail?sfield=fn&QueryID=27&CurRec=22&DbCode=CJFD&dbname=CJFDLAST2019&filename=JLGB201910015&urlid=&yx=',\n",
       " 'https://vpn.gufe.edu.cn/https/77726476706e69737468656265737421fbf952d2243e635930068cb8/kns8/Detail?sfield=fn&QueryID=27&CurRec=23&DbCode=CJFD&dbname=CJFDLAST2019&filename=JLJB201910029&urlid=&yx=',\n",
       " 'https://vpn.gufe.edu.cn/https/77726476706e69737468656265737421fbf952d2243e635930068cb8/kns8/Detail?sfield=fn&QueryID=27&CurRec=24&DbCode=CJFD&dbname=CJFDLAST2019&filename=ZOGU201904014&urlid=&yx=',\n",
       " 'https://vpn.gufe.edu.cn/https/77726476706e69737468656265737421fbf952d2243e635930068cb8/kns8/Detail?sfield=fn&QueryID=27&CurRec=25&DbCode=CJFD&dbname=CJFDLAST2019&filename=YXXY201901014&urlid=50.1028.g4.20181204.1729.004&yx=Y',\n",
       " 'https://vpn.gufe.edu.cn/https/77726476706e69737468656265737421fbf952d2243e635930068cb8/kns8/Detail?sfield=fn&QueryID=27&CurRec=26&DbCode=CJFD&dbname=CJFDLAST2019&filename=ZOGU201811037&urlid=&yx=',\n",
       " 'https://vpn.gufe.edu.cn/https/77726476706e69737468656265737421fbf952d2243e635930068cb8/kns8/Detail?sfield=fn&QueryID=27&CurRec=27&DbCode=CJFD&dbname=CJFDLAST2018&filename=WOLF201820014&urlid=&yx=',\n",
       " 'https://vpn.gufe.edu.cn/https/77726476706e69737468656265737421fbf952d2243e635930068cb8/kns8/Detail?sfield=fn&QueryID=27&CurRec=28&DbCode=CJFD&dbname=CJFDLAST2018&filename=GCHZ201803012&urlid=&yx=',\n",
       " 'https://vpn.gufe.edu.cn/https/77726476706e69737468656265737421fbf952d2243e635930068cb8/kns8/Detail?sfield=fn&QueryID=27&CurRec=29&DbCode=CJFD&dbname=CJFDLAST2018&filename=JXCY201807017&urlid=&yx=',\n",
       " 'https://vpn.gufe.edu.cn/https/77726476706e69737468656265737421fbf952d2243e635930068cb8/kns8/Detail?sfield=fn&QueryID=27&CurRec=30&DbCode=CJFD&dbname=CJFDLAST2018&filename=KJJF201807018&urlid=&yx=',\n",
       " 'https://vpn.gufe.edu.cn/https/77726476706e69737468656265737421fbf952d2243e635930068cb8/kns8/Detail?sfield=fn&QueryID=27&CurRec=31&DbCode=CJFD&dbname=CJFDLAST2018&filename=SXYD201804030&urlid=&yx=',\n",
       " 'https://vpn.gufe.edu.cn/https/77726476706e69737468656265737421fbf952d2243e635930068cb8/kns8/Detail?sfield=fn&QueryID=27&CurRec=32&DbCode=CJFD&dbname=CJFDLAST2018&filename=WSZY201802021&urlid=31.1751.R.20180320.1648.017&yx=Y']"
      ]
     },
     "execution_count": 17,
     "metadata": {},
     "output_type": "execute_result"
    }
   ],
   "source": [
    "# 如果是登录校园网获取的链接，运行此代码即可\n",
    "urls = '''\n",
    "/https/77726476706e69737468656265737421fbf952d2243e635930068cb8/kns8/Detail?sfield=fn&QueryID=27&CurRec=13&DbCode=CJFD&dbname=CJFDLAST2021&filename=DDYI202124084&urlid=&yx=\n",
    "/https/77726476706e69737468656265737421fbf952d2243e635930068cb8/kns8/Detail?sfield=fn&QueryID=27&CurRec=14&DbCode=CJFD&dbname=CJFDLAST2021&filename=NZYX202103019&urlid=&yx=\n",
    "/https/77726476706e69737468656265737421fbf952d2243e635930068cb8/kns8/Detail?sfield=fn&QueryID=27&CurRec=15&DbCode=CJFD&dbname=CJFDLAST2021&filename=TAIY202104038&urlid=&yx=\n",
    "/https/77726476706e69737468656265737421fbf952d2243e635930068cb8/kns8/Detail?sfield=fn&QueryID=27&CurRec=16&DbCode=CJFD&dbname=CJFDLAST2021&filename=ZJYX202103020&urlid=&yx=\n",
    "/https/77726476706e69737468656265737421fbf952d2243e635930068cb8/kns8/Detail?sfield=fn&QueryID=27&CurRec=17&DbCode=CJFD&dbname=CJFDLAST2020&filename=JYJU202046151&urlid=&yx=\n",
    "/https/77726476706e69737468656265737421fbf952d2243e635930068cb8/kns8/Detail?sfield=fn&QueryID=27&CurRec=18&DbCode=CJFD&dbname=CJFDLAST2020&filename=CBLY202023085&urlid=&yx=\n",
    "/https/77726476706e69737468656265737421fbf952d2243e635930068cb8/kns8/Detail?sfield=fn&QueryID=27&CurRec=19&DbCode=CJFD&dbname=CJFDLAST2020&filename=AGDX202002007&urlid=&yx=\n",
    "/https/77726476706e69737468656265737421fbf952d2243e635930068cb8/kns8/Detail?sfield=fn&QueryID=27&CurRec=20&DbCode=CJFD&dbname=CJFDLAST2020&filename=HLXZ202006020&urlid=&yx=\n",
    "/https/77726476706e69737468656265737421fbf952d2243e635930068cb8/kns8/Detail?sfield=fn&QueryID=27&CurRec=21&DbCode=CJFD&dbname=CJFDLAST2020&filename=BHYJ201906002&urlid=&yx=\n",
    "/https/77726476706e69737468656265737421fbf952d2243e635930068cb8/kns8/Detail?sfield=fn&QueryID=27&CurRec=22&DbCode=CJFD&dbname=CJFDLAST2019&filename=JLGB201910015&urlid=&yx=\n",
    "/https/77726476706e69737468656265737421fbf952d2243e635930068cb8/kns8/Detail?sfield=fn&QueryID=27&CurRec=23&DbCode=CJFD&dbname=CJFDLAST2019&filename=JLJB201910029&urlid=&yx=\n",
    "/https/77726476706e69737468656265737421fbf952d2243e635930068cb8/kns8/Detail?sfield=fn&QueryID=27&CurRec=24&DbCode=CJFD&dbname=CJFDLAST2019&filename=ZOGU201904014&urlid=&yx=\n",
    "/https/77726476706e69737468656265737421fbf952d2243e635930068cb8/kns8/Detail?sfield=fn&QueryID=27&CurRec=25&DbCode=CJFD&dbname=CJFDLAST2019&filename=YXXY201901014&urlid=50.1028.g4.20181204.1729.004&yx=Y\n",
    "/https/77726476706e69737468656265737421fbf952d2243e635930068cb8/kns8/Detail?sfield=fn&QueryID=27&CurRec=26&DbCode=CJFD&dbname=CJFDLAST2019&filename=ZOGU201811037&urlid=&yx=\n",
    "/https/77726476706e69737468656265737421fbf952d2243e635930068cb8/kns8/Detail?sfield=fn&QueryID=27&CurRec=27&DbCode=CJFD&dbname=CJFDLAST2018&filename=WOLF201820014&urlid=&yx=\n",
    "/https/77726476706e69737468656265737421fbf952d2243e635930068cb8/kns8/Detail?sfield=fn&QueryID=27&CurRec=28&DbCode=CJFD&dbname=CJFDLAST2018&filename=GCHZ201803012&urlid=&yx=\n",
    "/https/77726476706e69737468656265737421fbf952d2243e635930068cb8/kns8/Detail?sfield=fn&QueryID=27&CurRec=29&DbCode=CJFD&dbname=CJFDLAST2018&filename=JXCY201807017&urlid=&yx=\n",
    "/https/77726476706e69737468656265737421fbf952d2243e635930068cb8/kns8/Detail?sfield=fn&QueryID=27&CurRec=30&DbCode=CJFD&dbname=CJFDLAST2018&filename=KJJF201807018&urlid=&yx=\n",
    "/https/77726476706e69737468656265737421fbf952d2243e635930068cb8/kns8/Detail?sfield=fn&QueryID=27&CurRec=31&DbCode=CJFD&dbname=CJFDLAST2018&filename=SXYD201804030&urlid=&yx=\n",
    "/https/77726476706e69737468656265737421fbf952d2243e635930068cb8/kns8/Detail?sfield=fn&QueryID=27&CurRec=32&DbCode=CJFD&dbname=CJFDLAST2018&filename=WSZY201802021&urlid=31.1751.R.20180320.1648.017&yx=Y\n",
    "'''\n",
    "urls = [\"https://vpn.gufe.edu.cn\"+i for i in urls.strip().split('\\n')]\n",
    "urls\n"
   ]
  },
  {
   "cell_type": "code",
   "execution_count": 33,
   "metadata": {},
   "outputs": [
    {
     "data": {
      "text/plain": [
       "['https://vpn.gufe.edu.cn/https/77726476706e69737468656265737421fbf952d2243e635930068cb8/kns8/Detail?sfield=fn&QueryID=7&CurRec=1&DbCode=CAPJ&dbname=CAPJLAST&filename=JYGU20230629001&urlid=&yx=',\n",
       " 'https://vpn.gufe.edu.cn/https/77726476706e69737468656265737421fbf952d2243e635930068cb8/kns8/Detail?sfield=fn&QueryID=7&CurRec=2&DbCode=CAPJ&dbname=CAPJLAST&filename=JYGU20230507001&urlid=&yx=',\n",
       " 'https://vpn.gufe.edu.cn/https/77726476706e69737468656265737421fbf952d2243e635930068cb8/kns8/Detail?sfield=fn&QueryID=7&CurRec=3&DbCode=CJFD&dbname=CJFDLAST2023&filename=YJYF202301008&urlid=&yx=',\n",
       " 'https://vpn.gufe.edu.cn/https/77726476706e69737468656265737421fbf952d2243e635930068cb8/kns8/Detail?sfield=fn&QueryID=7&CurRec=4&DbCode=CJFD&dbname=CJFDLAST2023&filename=JJYG202302003&urlid=&yx=',\n",
       " 'https://vpn.gufe.edu.cn/https/77726476706e69737468656265737421fbf952d2243e635930068cb8/kns8/Detail?sfield=fn&QueryID=7&CurRec=5&DbCode=CJFD&dbname=CJFDLAST2023&filename=LYXK202301011&urlid=&yx=',\n",
       " 'https://vpn.gufe.edu.cn/https/77726476706e69737468656265737421fbf952d2243e635930068cb8/kns8/Detail?sfield=fn&QueryID=7&CurRec=6&DbCode=CJFD&dbname=CJFDLAST2022&filename=JJJW202205010&urlid=&yx=',\n",
       " 'https://vpn.gufe.edu.cn/https/77726476706e69737468656265737421fbf952d2243e635930068cb8/kns8/Detail?sfield=fn&QueryID=7&CurRec=7&DbCode=CJFD&dbname=CJFDLAST2022&filename=GLXX202204014&urlid=&yx=',\n",
       " 'https://vpn.gufe.edu.cn/https/77726476706e69737468656265737421fbf952d2243e635930068cb8/kns8/Detail?sfield=fn&QueryID=7&CurRec=8&DbCode=CMFD&dbname=CMFD202202&filename=1022580307&urlid=&yx=',\n",
       " 'https://vpn.gufe.edu.cn/https/77726476706e69737468656265737421fbf952d2243e635930068cb8/kns8/Detail?sfield=fn&QueryID=7&CurRec=9&DbCode=CMFD&dbname=CMFDTEMP&filename=1022100032&urlid=&yx=',\n",
       " 'https://vpn.gufe.edu.cn/https/77726476706e69737468656265737421fbf952d2243e635930068cb8/kns8/Detail?sfield=fn&QueryID=7&CurRec=10&DbCode=CMFD&dbname=CMFD202202&filename=1022033151&urlid=&yx=',\n",
       " 'https://vpn.gufe.edu.cn/https/77726476706e69737468656265737421fbf952d2243e635930068cb8/kns8/Detail?sfield=fn&QueryID=7&CurRec=11&DbCode=CJFD&dbname=CJFDLAST2022&filename=KJYJ202204012&urlid=&yx=',\n",
       " 'https://vpn.gufe.edu.cn/https/77726476706e69737468656265737421fbf952d2243e635930068cb8/kns8/Detail?sfield=fn&QueryID=7&CurRec=12&DbCode=CJFD&dbname=CJFDLAST2022&filename=JXJG202112014&urlid=&yx=',\n",
       " 'https://vpn.gufe.edu.cn/https/77726476706e69737468656265737421fbf952d2243e635930068cb8/kns8/Detail?sfield=fn&QueryID=7&CurRec=13&DbCode=CJFD&dbname=CJFDLAST2021&filename=YJYF202105010&urlid=&yx=',\n",
       " 'https://vpn.gufe.edu.cn/https/77726476706e69737468656265737421fbf952d2243e635930068cb8/kns8/Detail?sfield=fn&QueryID=7&CurRec=14&DbCode=CJFD&dbname=CJFDLAST2021&filename=LKGP202105014&urlid=&yx=',\n",
       " 'https://vpn.gufe.edu.cn/https/77726476706e69737468656265737421fbf952d2243e635930068cb8/kns8/Detail?sfield=fn&QueryID=7&CurRec=15&DbCode=CDFD&dbname=CDFDLAST2023&filename=1021150377&urlid=&yx=',\n",
       " 'https://vpn.gufe.edu.cn/https/77726476706e69737468656265737421fbf952d2243e635930068cb8/kns8/Detail?sfield=fn&QueryID=7&CurRec=16&DbCode=CJFD&dbname=CJFDLAST2021&filename=SJYJ202104011&urlid=&yx=',\n",
       " 'https://vpn.gufe.edu.cn/https/77726476706e69737468656265737421fbf952d2243e635930068cb8/kns8/Detail?sfield=fn&QueryID=7&CurRec=17&DbCode=CMFD&dbname=CMFD202201&filename=1021704815&urlid=&yx=',\n",
       " 'https://vpn.gufe.edu.cn/https/77726476706e69737468656265737421fbf952d2243e635930068cb8/kns8/Detail?sfield=fn&QueryID=7&CurRec=18&DbCode=CJFD&dbname=CJFDLAST2021&filename=ZWGD202106010&urlid=&yx=',\n",
       " 'https://vpn.gufe.edu.cn/https/77726476706e69737468656265737421fbf952d2243e635930068cb8/kns8/Detail?sfield=fn&QueryID=7&CurRec=19&DbCode=CMFD&dbname=CMFD202202&filename=1021874932&urlid=&yx=',\n",
       " 'https://vpn.gufe.edu.cn/https/77726476706e69737468656265737421fbf952d2243e635930068cb8/kns8/Detail?sfield=fn&QueryID=7&CurRec=20&DbCode=CMFD&dbname=CMFD202202&filename=1021736861&urlid=&yx=']"
      ]
     },
     "execution_count": 33,
     "metadata": {},
     "output_type": "execute_result"
    }
   ],
   "source": [
    "# 如果是不是登录校园网，而是登录的官网获取的链接，运行此代码即可\n",
    "urls = '''\n",
    "/kns/Detail?sfield=fn&QueryID=7&CurRec=1&recid=&FileName=JYGU20230629001&DbName=CAPJLAST&DbCode=CAPJ&yx=Y&pr=&URLID=12.1034.F.20230630.1451.002\n",
    "/kns/Detail?sfield=fn&QueryID=7&CurRec=2&recid=&FileName=JYGU20230507001&DbName=CAPJLAST&DbCode=CAPJ&yx=Y&pr=&URLID=12.1034.F.20230509.0939.002\n",
    "/kns/Detail?sfield=fn&QueryID=7&CurRec=3&recid=&FileName=YJYF202301008&DbName=CJFDLAST2023&DbCode=CJFD&yx=&pr=&URLID=\n",
    "/kns/Detail?sfield=fn&QueryID=7&CurRec=4&recid=&FileName=JJYG202302003&DbName=CJFDLAST2023&DbCode=CJFD&yx=&pr=&URLID=\n",
    "/kns/Detail?sfield=fn&QueryID=7&CurRec=5&recid=&FileName=LYXK202301011&DbName=CJFDLAST2023&DbCode=CJFD&yx=A&pr=&URLID=11.1120.k.20220922.1811.001\n",
    "/kns/Detail?sfield=fn&QueryID=7&CurRec=6&recid=&FileName=JJJW202205010&DbName=CJFDLAST2022&DbCode=CJFD&yx=&pr=&URLID=\n",
    "/kns/Detail?sfield=fn&QueryID=7&CurRec=7&recid=&FileName=GLXX202204014&DbName=CJFDLAST2022&DbCode=CJFD&yx=&pr=&URLID=\n",
    "/kns/Detail?sfield=fn&QueryID=7&CurRec=8&DbCode=CMFD&dbname=CMFD202202&filename=1022580307.nh\n",
    "/kns/Detail?sfield=fn&QueryID=7&CurRec=9&DbCode=CMFD&dbname=CMFDTEMP&filename=1022100032.nh\n",
    "/kns/Detail?sfield=fn&QueryID=7&CurRec=10&DbCode=CMFD&dbname=CMFD202202&filename=1022033151.nh\n",
    "/kns/Detail?sfield=fn&QueryID=7&CurRec=11&recid=&FileName=KJYJ202204012&DbName=CJFDLAST2022&DbCode=CJFD&yx=&pr=&URLID=\n",
    "/kns/Detail?sfield=fn&QueryID=7&CurRec=12&recid=&FileName=JXJG202112014&DbName=CJFDLAST2022&DbCode=CJFD&yx=&pr=&URLID=\n",
    "/kns/Detail?sfield=fn&QueryID=7&CurRec=13&recid=&FileName=YJYF202105010&DbName=CJFDLAST2021&DbCode=CJFD&yx=A&pr=&URLID=31.1599.G3.20211004.2039.003\n",
    "/kns/Detail?sfield=fn&QueryID=7&CurRec=14&recid=&FileName=LKGP202105014&DbName=CJFDLAST2021&DbCode=CJFD&yx=&pr=CJFU2021;&URLID=\n",
    "/kns/Detail?sfield=fn&QueryID=7&CurRec=15&DbCode=CDFD&dbname=CDFDLAST2023&filename=1021150377.nh\n",
    "/kns/Detail?sfield=fn&QueryID=7&CurRec=16&recid=&FileName=SJYJ202104011&DbName=CJFDLAST2021&DbCode=CJFD&yx=A&pr=&URLID=32.1317.F.20210709.1740.012\n",
    "/kns/Detail?sfield=fn&QueryID=7&CurRec=17&DbCode=CMFD&dbname=CMFD202201&filename=1021704815.nh\n",
    "/kns/Detail?sfield=fn&QueryID=7&CurRec=18&recid=&FileName=ZWGD202106010&DbName=CJFDLAST2021&DbCode=CJFD&yx=&pr=&URLID=\n",
    "/kns/Detail?sfield=fn&QueryID=7&CurRec=19&DbCode=CMFD&dbname=CMFD202202&filename=1021874932.nh\n",
    "/kns/Detail?sfield=fn&QueryID=7&CurRec=20&DbCode=CMFD&dbname=CMFD202202&filename=1021736861.nh\n",
    "'''\n",
    "import re\n",
    "def to_url(url):\n",
    "    url = url.strip()\n",
    "    QueryID = re.findall(r'QueryID=(\\d+)',url)[0]\n",
    "    CurRec = re.findall(r'CurRec=(\\d+)',url)[0]\n",
    "    DbCode = re.findall(r'DbCode=(.*?)&',url)[0]\n",
    "    try:\n",
    "        dbname = re.findall(r'DbName=(.*?)&',url)[0]\n",
    "    except:\n",
    "        dbname = re.findall(r'dbname=(.*?)&',url)[0]\n",
    "    try:\n",
    "        filename = re.findall(r'FileName=(.*?)&',url)[0]\n",
    "    except:\n",
    "        filename = re.findall(r'filename=(\\d+)',url)[0]\n",
    "\n",
    "    return f\"https://vpn.gufe.edu.cn/https/77726476706e69737468656265737421fbf952d2243e635930068cb8/kns8/Detail?sfield=fn&QueryID={QueryID}&CurRec={CurRec}&DbCode={DbCode}&dbname={dbname}&filename={filename}&urlid=&yx=\"\n",
    "urls = [to_url(i) for i in urls.strip().split('\\n')]\n",
    "urls\n"
   ]
  },
  {
   "cell_type": "code",
   "execution_count": 24,
   "metadata": {},
   "outputs": [],
   "source": [
    "import requests,os,time\n",
    "from lxml import etree\n",
    "def download(url):\n",
    "    headers = {\n",
    "        \"Accept\": \"text/html,application/xhtml+xml,application/xml;q=0.9,image/avif,image/webp,image/apng,*/*;q=0.8,application/signed-exchange;v=b3;q=0.7\",\n",
    "        \"Accept-Language\": \"en,zh;q=0.9,zh-CN;q=0.8\",\n",
    "        \"Cache-Control\": \"max-age=0\",\n",
    "        \"Connection\": \"keep-alive\",\n",
    "        \"Referer\": \"https://vpn.gufe.edu.cn/https/77726476706e69737468656265737421fbf952d2243e635930068cb8/kns8/AdvSearch?dbprefix=CFLS&&crossDbcodes=CJFQ%2CCDMD%2CCIPD%2CCCND%2CCISD%2CSNAD%2CBDZK%2CCCJD%2CCCVD%2CCJFN\",\n",
    "        \"Sec-Fetch-Dest\": \"document\",\n",
    "        \"Sec-Fetch-Mode\": \"navigate\",\n",
    "        \"Sec-Fetch-Site\": \"same-origin\",\n",
    "        \"Sec-Fetch-User\": \"?1\",\n",
    "        \"Upgrade-Insecure-Requests\": \"1\",\n",
    "        \"User-Agent\": \"Mozilla/5.0 (Macintosh; Intel Mac OS X 10_15_7) AppleWebKit/537.36 (KHTML, like Gecko) Chrome/115.0.0.0 Safari/537.36\",\n",
    "        \"sec-ch-ua\": \"\\\"Not/A)Brand\\\";v=\\\"99\\\", \\\"Google Chrome\\\";v=\\\"115\\\", \\\"Chromium\\\";v=\\\"115\\\"\",\n",
    "        \"sec-ch-ua-mobile\": \"?0\",\n",
    "        \"sec-ch-ua-platform\": \"\\\"macOS\\\"\"\n",
    "    }\n",
    "    cookies = {\n",
    "        \"hb_MA-B8B4-DCBCC6752B4F_source\": \"i.gufe.edu.cn\",\n",
    "        \"show_vpn\": \"1\",\n",
    "        \"heartbeat\": \"1\",\n",
    "        \"show_faq\": \"0\",\n",
    "        \"wengine_vpn_ticket\": \"1c635449eabeb009\",\n",
    "        \"refresh\": \"0\"\n",
    "    }\n",
    "    re = requests.get(url,headers=headers, cookies=cookies)\n",
    "    HTML = etree.HTML(re.text)\n",
    "    title = HTML.xpath(\" //h1/text()\")[0]\n",
    "    link = HTML.xpath(\"//a[@id='pdfDown']/@href\")[0]\n",
    "    print('pdf下载链接：',link)\n",
    "    # 判断pdf下载文件夹是否存在\n",
    "    if not os.path.exists('pdf下载/'):\n",
    "        os.mkdir('pdf下载/')\n",
    "\n",
    "    pdf = requests.get(link,headers=headers, cookies=cookies).content\n",
    "    if pdf.startswith(b'<!DOCTYP') or pdf.startswith(b'\\r\\n\\r\\n<!DOCTYPE') or pdf.startswith(b'<html>') or pdf.startswith(b'\\r\\n\\r\\n<html>') :\n",
    "        print(title,'下载异常！被禁止下载，请在浏览器中的下载pdf页面通过滑动验证！')\n",
    "        print('详情页',url)\n",
    "        print(pdf[:10])\n",
    "        return False\n",
    "    else:\n",
    "        with open('pdf下载/'+title+'.pdf','wb') as f:\n",
    "            f.write(pdf)\n",
    "            print(title,'下载完成!\\n')\n",
    "    # 休息一下，防止被反爬\n",
    "    time.sleep(3)\n",
    "\n"
   ]
  },
  {
   "cell_type": "code",
   "execution_count": null,
   "metadata": {},
   "outputs": [],
   "source": [
    "for link in urls:\n",
    "    r = download(link)\n",
    "    if r == False:  # 如果下载失败，返回\n",
    "        break\n",
    "print('下载完成!进程结束！')"
   ]
  },
  {
   "cell_type": "code",
   "execution_count": 14,
   "metadata": {},
   "outputs": [
    {
     "data": {
      "text/plain": [
       "<Response [200]>"
      ]
     },
     "execution_count": 14,
     "metadata": {},
     "output_type": "execute_result"
    }
   ],
   "source": [
    "headers = {\n",
    "        \"Accept\": \"text/html,application/xhtml+xml,application/xml;q=0.9,image/avif,image/webp,image/apng,*/*;q=0.8,application/signed-exchange;v=b3;q=0.7\",\n",
    "        \"Accept-Language\": \"en,zh;q=0.9,zh-CN;q=0.8\",\n",
    "        \"Cache-Control\": \"max-age=0\",\n",
    "        \"Connection\": \"keep-alive\",\n",
    "        \"Referer\": \"https://vpn.gufe.edu.cn/https/77726476706e69737468656265737421fbf952d2243e635930068cb8/kns8/AdvSearch?dbprefix=CFLS&&crossDbcodes=CJFQ%2CCDMD%2CCIPD%2CCCND%2CCISD%2CSNAD%2CBDZK%2CCCJD%2CCCVD%2CCJFN\",\n",
    "        \"Sec-Fetch-Dest\": \"document\",\n",
    "        \"Sec-Fetch-Mode\": \"navigate\",\n",
    "        \"Sec-Fetch-Site\": \"same-origin\",\n",
    "        \"Sec-Fetch-User\": \"?1\",\n",
    "        \"Upgrade-Insecure-Requests\": \"1\",\n",
    "        \"User-Agent\": \"Mozilla/5.0 (Macintosh; Intel Mac OS X 10_15_7) AppleWebKit/537.36 (KHTML, like Gecko) Chrome/115.0.0.0 Safari/537.36\",\n",
    "        \"sec-ch-ua\": \"\\\"Not/A)Brand\\\";v=\\\"99\\\", \\\"Google Chrome\\\";v=\\\"115\\\", \\\"Chromium\\\";v=\\\"115\\\"\",\n",
    "        \"sec-ch-ua-mobile\": \"?0\",\n",
    "        \"sec-ch-ua-platform\": \"\\\"macOS\\\"\"\n",
    "    }\n",
    "cookies = {\n",
    "        \"hb_MA-B8B4-DCBCC6752B4F_source\": \"i.gufe.edu.cn\",\n",
    "        \"show_vpn\": \"1\",\n",
    "        \"heartbeat\": \"1\",\n",
    "        \"show_faq\": \"0\",\n",
    "        \"wengine_vpn_ticket\": \"1c635449eabeb009\",\n",
    "        \"refresh\": \"0\"\n",
    "    }\n",
    "\n",
    "re = requests.get(\"https://vpn.gufe.edu.cn/https/77726476706e69737468656265737421f2f653d2243e635930068cb8/bar/download/order?id=jBGETXBNdPImvx70aLAuJPjDI3A2vZL8vlJ5Yxju1VIFx3iHs3LC%2F3KYTpwvVqoPReCKymKxHE3jVZlzKnzVb4XNr%2Bq%2FxAZGaJQaVfGy3Lb8gXleJLGfsrYTV%2FtrNwLTGW52Moz28mlnhJh8ZlP8bRkxnHP9k3bpcMLZ8PSOuv4wbZdFKhzweYxxZIWK8KcFaS0LpJEZK88W5P5KLxE7Tg%3D%3D\",headers=headers, cookies=cookies)\n",
    "re"
   ]
  }
 ],
 "metadata": {
  "kernelspec": {
   "display_name": "base",
   "language": "python",
   "name": "python3"
  },
  "language_info": {
   "codemirror_mode": {
    "name": "ipython",
    "version": 3
   },
   "file_extension": ".py",
   "mimetype": "text/x-python",
   "name": "python",
   "nbconvert_exporter": "python",
   "pygments_lexer": "ipython3",
   "version": "3.10.12"
  },
  "orig_nbformat": 4
 },
 "nbformat": 4,
 "nbformat_minor": 2
}
