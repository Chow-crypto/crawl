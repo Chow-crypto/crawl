{
 "cells": [
  {
   "cell_type": "markdown",
   "metadata": {},
   "source": [
    "xpath = [\n",
    "    //a[@class='fz14']/@href   # 获取论文列表\n",
    "    //a[@id='pdfDown']/@href    # 获取单个论文pdf下载链接\n",
    "    //h1/text()     # 获取单个论文标题\n",
    "]"
   ]
  },
  {
   "cell_type": "code",
   "execution_count": 6,
   "metadata": {},
   "outputs": [
    {
     "data": {
      "text/plain": [
       "['https://vpn.gufe.edu.cn/https/77726476706e69737468656265737421fbf952d2243e635930068cb8/kns8/Detail?sfield=fn&QueryID=27&CurRec=13&DbCode=CJFD&dbname=CJFDLAST2021&filename=DDYI202124084&urlid=&yx=',\n",
       " 'https://vpn.gufe.edu.cn/https/77726476706e69737468656265737421fbf952d2243e635930068cb8/kns8/Detail?sfield=fn&QueryID=27&CurRec=14&DbCode=CJFD&dbname=CJFDLAST2021&filename=NZYX202103019&urlid=&yx=',\n",
       " 'https://vpn.gufe.edu.cn/https/77726476706e69737468656265737421fbf952d2243e635930068cb8/kns8/Detail?sfield=fn&QueryID=27&CurRec=15&DbCode=CJFD&dbname=CJFDLAST2021&filename=TAIY202104038&urlid=&yx=',\n",
       " 'https://vpn.gufe.edu.cn/https/77726476706e69737468656265737421fbf952d2243e635930068cb8/kns8/Detail?sfield=fn&QueryID=27&CurRec=16&DbCode=CJFD&dbname=CJFDLAST2021&filename=ZJYX202103020&urlid=&yx=',\n",
       " 'https://vpn.gufe.edu.cn/https/77726476706e69737468656265737421fbf952d2243e635930068cb8/kns8/Detail?sfield=fn&QueryID=27&CurRec=17&DbCode=CJFD&dbname=CJFDLAST2020&filename=JYJU202046151&urlid=&yx=',\n",
       " 'https://vpn.gufe.edu.cn/https/77726476706e69737468656265737421fbf952d2243e635930068cb8/kns8/Detail?sfield=fn&QueryID=27&CurRec=18&DbCode=CJFD&dbname=CJFDLAST2020&filename=CBLY202023085&urlid=&yx=',\n",
       " 'https://vpn.gufe.edu.cn/https/77726476706e69737468656265737421fbf952d2243e635930068cb8/kns8/Detail?sfield=fn&QueryID=27&CurRec=19&DbCode=CJFD&dbname=CJFDLAST2020&filename=AGDX202002007&urlid=&yx=',\n",
       " 'https://vpn.gufe.edu.cn/https/77726476706e69737468656265737421fbf952d2243e635930068cb8/kns8/Detail?sfield=fn&QueryID=27&CurRec=20&DbCode=CJFD&dbname=CJFDLAST2020&filename=HLXZ202006020&urlid=&yx=',\n",
       " 'https://vpn.gufe.edu.cn/https/77726476706e69737468656265737421fbf952d2243e635930068cb8/kns8/Detail?sfield=fn&QueryID=27&CurRec=21&DbCode=CJFD&dbname=CJFDLAST2020&filename=BHYJ201906002&urlid=&yx=',\n",
       " 'https://vpn.gufe.edu.cn/https/77726476706e69737468656265737421fbf952d2243e635930068cb8/kns8/Detail?sfield=fn&QueryID=27&CurRec=22&DbCode=CJFD&dbname=CJFDLAST2019&filename=JLGB201910015&urlid=&yx=',\n",
       " 'https://vpn.gufe.edu.cn/https/77726476706e69737468656265737421fbf952d2243e635930068cb8/kns8/Detail?sfield=fn&QueryID=27&CurRec=23&DbCode=CJFD&dbname=CJFDLAST2019&filename=JLJB201910029&urlid=&yx=',\n",
       " 'https://vpn.gufe.edu.cn/https/77726476706e69737468656265737421fbf952d2243e635930068cb8/kns8/Detail?sfield=fn&QueryID=27&CurRec=24&DbCode=CJFD&dbname=CJFDLAST2019&filename=ZOGU201904014&urlid=&yx=',\n",
       " 'https://vpn.gufe.edu.cn/https/77726476706e69737468656265737421fbf952d2243e635930068cb8/kns8/Detail?sfield=fn&QueryID=27&CurRec=25&DbCode=CJFD&dbname=CJFDLAST2019&filename=YXXY201901014&urlid=50.1028.g4.20181204.1729.004&yx=Y',\n",
       " 'https://vpn.gufe.edu.cn/https/77726476706e69737468656265737421fbf952d2243e635930068cb8/kns8/Detail?sfield=fn&QueryID=27&CurRec=26&DbCode=CJFD&dbname=CJFDLAST2019&filename=ZOGU201811037&urlid=&yx=',\n",
       " 'https://vpn.gufe.edu.cn/https/77726476706e69737468656265737421fbf952d2243e635930068cb8/kns8/Detail?sfield=fn&QueryID=27&CurRec=27&DbCode=CJFD&dbname=CJFDLAST2018&filename=WOLF201820014&urlid=&yx=',\n",
       " 'https://vpn.gufe.edu.cn/https/77726476706e69737468656265737421fbf952d2243e635930068cb8/kns8/Detail?sfield=fn&QueryID=27&CurRec=28&DbCode=CJFD&dbname=CJFDLAST2018&filename=GCHZ201803012&urlid=&yx=',\n",
       " 'https://vpn.gufe.edu.cn/https/77726476706e69737468656265737421fbf952d2243e635930068cb8/kns8/Detail?sfield=fn&QueryID=27&CurRec=29&DbCode=CJFD&dbname=CJFDLAST2018&filename=JXCY201807017&urlid=&yx=',\n",
       " 'https://vpn.gufe.edu.cn/https/77726476706e69737468656265737421fbf952d2243e635930068cb8/kns8/Detail?sfield=fn&QueryID=27&CurRec=30&DbCode=CJFD&dbname=CJFDLAST2018&filename=KJJF201807018&urlid=&yx=',\n",
       " 'https://vpn.gufe.edu.cn/https/77726476706e69737468656265737421fbf952d2243e635930068cb8/kns8/Detail?sfield=fn&QueryID=27&CurRec=31&DbCode=CJFD&dbname=CJFDLAST2018&filename=SXYD201804030&urlid=&yx=',\n",
       " 'https://vpn.gufe.edu.cn/https/77726476706e69737468656265737421fbf952d2243e635930068cb8/kns8/Detail?sfield=fn&QueryID=27&CurRec=32&DbCode=CJFD&dbname=CJFDLAST2018&filename=WSZY201802021&urlid=31.1751.R.20180320.1648.017&yx=Y']"
      ]
     },
     "execution_count": 6,
     "metadata": {},
     "output_type": "execute_result"
    }
   ],
   "source": [
    "urls = '''\n",
    "/https/77726476706e69737468656265737421fbf952d2243e635930068cb8/kns8/Detail?sfield=fn&QueryID=27&CurRec=13&DbCode=CJFD&dbname=CJFDLAST2021&filename=DDYI202124084&urlid=&yx=\n",
    "/https/77726476706e69737468656265737421fbf952d2243e635930068cb8/kns8/Detail?sfield=fn&QueryID=27&CurRec=14&DbCode=CJFD&dbname=CJFDLAST2021&filename=NZYX202103019&urlid=&yx=\n",
    "/https/77726476706e69737468656265737421fbf952d2243e635930068cb8/kns8/Detail?sfield=fn&QueryID=27&CurRec=15&DbCode=CJFD&dbname=CJFDLAST2021&filename=TAIY202104038&urlid=&yx=\n",
    "/https/77726476706e69737468656265737421fbf952d2243e635930068cb8/kns8/Detail?sfield=fn&QueryID=27&CurRec=16&DbCode=CJFD&dbname=CJFDLAST2021&filename=ZJYX202103020&urlid=&yx=\n",
    "/https/77726476706e69737468656265737421fbf952d2243e635930068cb8/kns8/Detail?sfield=fn&QueryID=27&CurRec=17&DbCode=CJFD&dbname=CJFDLAST2020&filename=JYJU202046151&urlid=&yx=\n",
    "/https/77726476706e69737468656265737421fbf952d2243e635930068cb8/kns8/Detail?sfield=fn&QueryID=27&CurRec=18&DbCode=CJFD&dbname=CJFDLAST2020&filename=CBLY202023085&urlid=&yx=\n",
    "/https/77726476706e69737468656265737421fbf952d2243e635930068cb8/kns8/Detail?sfield=fn&QueryID=27&CurRec=19&DbCode=CJFD&dbname=CJFDLAST2020&filename=AGDX202002007&urlid=&yx=\n",
    "/https/77726476706e69737468656265737421fbf952d2243e635930068cb8/kns8/Detail?sfield=fn&QueryID=27&CurRec=20&DbCode=CJFD&dbname=CJFDLAST2020&filename=HLXZ202006020&urlid=&yx=\n",
    "/https/77726476706e69737468656265737421fbf952d2243e635930068cb8/kns8/Detail?sfield=fn&QueryID=27&CurRec=21&DbCode=CJFD&dbname=CJFDLAST2020&filename=BHYJ201906002&urlid=&yx=\n",
    "/https/77726476706e69737468656265737421fbf952d2243e635930068cb8/kns8/Detail?sfield=fn&QueryID=27&CurRec=22&DbCode=CJFD&dbname=CJFDLAST2019&filename=JLGB201910015&urlid=&yx=\n",
    "/https/77726476706e69737468656265737421fbf952d2243e635930068cb8/kns8/Detail?sfield=fn&QueryID=27&CurRec=23&DbCode=CJFD&dbname=CJFDLAST2019&filename=JLJB201910029&urlid=&yx=\n",
    "/https/77726476706e69737468656265737421fbf952d2243e635930068cb8/kns8/Detail?sfield=fn&QueryID=27&CurRec=24&DbCode=CJFD&dbname=CJFDLAST2019&filename=ZOGU201904014&urlid=&yx=\n",
    "/https/77726476706e69737468656265737421fbf952d2243e635930068cb8/kns8/Detail?sfield=fn&QueryID=27&CurRec=25&DbCode=CJFD&dbname=CJFDLAST2019&filename=YXXY201901014&urlid=50.1028.g4.20181204.1729.004&yx=Y\n",
    "/https/77726476706e69737468656265737421fbf952d2243e635930068cb8/kns8/Detail?sfield=fn&QueryID=27&CurRec=26&DbCode=CJFD&dbname=CJFDLAST2019&filename=ZOGU201811037&urlid=&yx=\n",
    "/https/77726476706e69737468656265737421fbf952d2243e635930068cb8/kns8/Detail?sfield=fn&QueryID=27&CurRec=27&DbCode=CJFD&dbname=CJFDLAST2018&filename=WOLF201820014&urlid=&yx=\n",
    "/https/77726476706e69737468656265737421fbf952d2243e635930068cb8/kns8/Detail?sfield=fn&QueryID=27&CurRec=28&DbCode=CJFD&dbname=CJFDLAST2018&filename=GCHZ201803012&urlid=&yx=\n",
    "/https/77726476706e69737468656265737421fbf952d2243e635930068cb8/kns8/Detail?sfield=fn&QueryID=27&CurRec=29&DbCode=CJFD&dbname=CJFDLAST2018&filename=JXCY201807017&urlid=&yx=\n",
    "/https/77726476706e69737468656265737421fbf952d2243e635930068cb8/kns8/Detail?sfield=fn&QueryID=27&CurRec=30&DbCode=CJFD&dbname=CJFDLAST2018&filename=KJJF201807018&urlid=&yx=\n",
    "/https/77726476706e69737468656265737421fbf952d2243e635930068cb8/kns8/Detail?sfield=fn&QueryID=27&CurRec=31&DbCode=CJFD&dbname=CJFDLAST2018&filename=SXYD201804030&urlid=&yx=\n",
    "/https/77726476706e69737468656265737421fbf952d2243e635930068cb8/kns8/Detail?sfield=fn&QueryID=27&CurRec=32&DbCode=CJFD&dbname=CJFDLAST2018&filename=WSZY201802021&urlid=31.1751.R.20180320.1648.017&yx=Y\n",
    "'''\n",
    "urls = [\"https://vpn.gufe.edu.cn\"+i for i in urls.strip().split('\\n')]\n",
    "urls\n"
   ]
  },
  {
   "cell_type": "code",
   "execution_count": 5,
   "metadata": {},
   "outputs": [],
   "source": [
    "import requests,os,time\n",
    "from lxml import etree\n",
    "def download(url):\n",
    "    headers = {\n",
    "        \"Accept\": \"text/html,application/xhtml+xml,application/xml;q=0.9,image/avif,image/webp,image/apng,*/*;q=0.8,application/signed-exchange;v=b3;q=0.7\",\n",
    "        \"Accept-Language\": \"en,zh;q=0.9,zh-CN;q=0.8\",\n",
    "        \"Cache-Control\": \"max-age=0\",\n",
    "        \"Connection\": \"keep-alive\",\n",
    "        \"Referer\": \"https://vpn.gufe.edu.cn/https/77726476706e69737468656265737421fbf952d2243e635930068cb8/kns8/AdvSearch?dbprefix=CFLS&&crossDbcodes=CJFQ%2CCDMD%2CCIPD%2CCCND%2CCISD%2CSNAD%2CBDZK%2CCCJD%2CCCVD%2CCJFN\",\n",
    "        \"Sec-Fetch-Dest\": \"document\",\n",
    "        \"Sec-Fetch-Mode\": \"navigate\",\n",
    "        \"Sec-Fetch-Site\": \"same-origin\",\n",
    "        \"Sec-Fetch-User\": \"?1\",\n",
    "        \"Upgrade-Insecure-Requests\": \"1\",\n",
    "        \"User-Agent\": \"Mozilla/5.0 (Macintosh; Intel Mac OS X 10_15_7) AppleWebKit/537.36 (KHTML, like Gecko) Chrome/115.0.0.0 Safari/537.36\",\n",
    "        \"sec-ch-ua\": \"\\\"Not/A)Brand\\\";v=\\\"99\\\", \\\"Google Chrome\\\";v=\\\"115\\\", \\\"Chromium\\\";v=\\\"115\\\"\",\n",
    "        \"sec-ch-ua-mobile\": \"?0\",\n",
    "        \"sec-ch-ua-platform\": \"\\\"macOS\\\"\"\n",
    "    }\n",
    "    cookies = {\n",
    "        \"hb_MA-B8B4-DCBCC6752B4F_source\": \"i.gufe.edu.cn\",\n",
    "        \"show_vpn\": \"1\",\n",
    "        \"heartbeat\": \"1\",\n",
    "        \"show_faq\": \"0\",\n",
    "        \"wengine_vpn_ticket\": \"9ca6da0125ba78d7\",\n",
    "        \"refresh\": \"0\"\n",
    "    }\n",
    "    re = requests.get(url,headers=headers, cookies=cookies)\n",
    "    HTML = etree.HTML(re.text)\n",
    "    title = HTML.xpath(\" //h1/text()\")[0]\n",
    "    link = HTML.xpath(\"//a[@id='pdfDown']/@href\")[0]\n",
    "    print('pdf下载链接：',link)\n",
    "    # 判断pdf下载文件夹是否存在\n",
    "    if not os.path.exists('pdf下载/'):\n",
    "        os.mkdir('pdf下载/')\n",
    "\n",
    "    pdf = requests.get(link,headers=headers, cookies=cookies).content\n",
    "    if pdf.startswith(b'<!DOCTYPE '):\n",
    "        print(title,'下载异常！被禁止下载，请在浏览器中的下载pdf页面通过滑动验证！')\n",
    "        print('详情页',url)\n",
    "        print(pdf[:10])\n",
    "        return False\n",
    "    else:\n",
    "        with open('pdf下载/'+title+'.pdf','wb') as f:\n",
    "            f.write(pdf)\n",
    "            print(title,'下载完成!\\n')\n",
    "    # 休息一下，防止被反爬\n",
    "    time.sleep(3)\n",
    "\n"
   ]
  },
  {
   "cell_type": "code",
   "execution_count": 7,
   "metadata": {},
   "outputs": [
    {
     "name": "stdout",
     "output_type": "stream",
     "text": [
      "pdf下载链接： https://vpn.gufe.edu.cn/https/77726476706e69737468656265737421f2f653d2243e635930068cb8/bar/download/order?id=jBGETXBNdPImvx70aLAuJPYxPoFw%2Bp%2Bi0fIiSrcN6lUL1oDNNG5fxkOiN4vYhpjpf2VZwh31dgsKowdxr7hV5EGxVkq8YHJNz4jV3WhknTor4qya3J1MXVAeiRx5OlqsTexkrKzFwIrft71n9EQs%2FUN1tZaOZ9Yf2CwqWvTYvKvMu%2FsTy5QX8vMQEr7plrpC9bpD%2BYxLznBl0lleSFoAIncoBQGVUiyBxvQTy79iQIo%3D\n",
      "临床医师岗位胜任力重要性的评判及分析 下载完成!\n",
      "\n",
      "pdf下载链接： https://vpn.gufe.edu.cn/https/77726476706e69737468656265737421f2f653d2243e635930068cb8/bar/download/order?id=jBGETXBNdPImvx70aLAuJPYxPoFw%2Bp%2Bi0fIiSrcN6lXmVZV2jkcIxFkTtggEB0n6qfi8%2Bi%2F76dNraIZO5iW6BkGxVkq8YHJNz4jV3WhknTor4qya3J1MXVAeiRx5OlqsTexkrKzFwIrft71n9EQs%2FUN1tZaOZ9Yf2CwqWvTYvKvMu%2FsTy5QX8vMQEr7plrpCTCJEZGol9lF3hBFPNI%2BuEncoBQGVUiyBxvQTy79iQIo%3D\n",
      "我国高职院校马克思主义学院建设调查研究 下载完成!\n",
      "\n",
      "pdf下载链接： https://vpn.gufe.edu.cn/https/77726476706e69737468656265737421f2f653d2243e635930068cb8/bar/download/order?id=jBGETXBNdPImvx70aLAuJPYxPoFw%2Bp%2Bi0fIiSrcN6lXddlOlumAtZt4disV%2FsjqpsxSj2%2Bg5K93ojkRss4hrVEGxVkq8YHJNz4jV3WhknTor4qya3J1MXVAeiRx5OlqsTexkrKzFwIrft71n9EQs%2FUN1tZaOZ9Yf2CwqWvTYvKvMu%2FsTy5QX8vMQEr7plrpCt3AtRKCZOCV4Z4gNnXJCL3coBQGVUiyBxvQTy79iQIo%3D\n",
      "“互联网+教育”背景下高职青年教师信息化教学能力调查与胜任力研究 下载完成!\n",
      "\n",
      "pdf下载链接： https://vpn.gufe.edu.cn/https/77726476706e69737468656265737421f2f653d2243e635930068cb8/bar/download/order?id=jBGETXBNdPImvx70aLAuJPYxPoFw%2Bp%2Bi0fIiSrcN6lXsFc1pyvvHO2zUMYSy9lds3JUuTL1dvsZiVw3pzpeSMkGxVkq8YHJNz4jV3WhknTor4qya3J1MXVAeiRx5OlqsTexkrKzFwIrft71n9EQs%2FUN1tZaOZ9Yf2CwqWvTYvKvMu%2FsTy5QX8vMQEr7plrpCDKGZtUKsz7ZWQvKDlopKHncoBQGVUiyBxvQTy79iQIo%3D\n",
      "乡村小学教师教学胜任力的现状、问题与对策——基于江西省的调查分析 下载完成!\n",
      "\n",
      "pdf下载链接： https://vpn.gufe.edu.cn/https/77726476706e69737468656265737421f2f653d2243e635930068cb8/bar/download/order?id=jBGETXBNdPImvx70aLAuJPYxPoFw%2Bp%2Bi0fIiSrcN6lVSdsWhhKVEaq%2BGpgcu3VDzPM23sbiBuVKB0v5A5XKG%2FDnQrP31sd3qbIpJim%2FvA8Qr4qya3J1MXVAeiRx5OlqsTexkrKzFwIrft71n9EQs%2FUN1tZaOZ9Yf2CwqWvTYvKvMu%2FsTy5QX8vMQEr7plrpCmJVS2aOiDd2KpdDy5%2FrjyHcoBQGVUiyBxvQTy79iQIo%3D\n",
      "从应急行为到战略行动——对独立学院在线教育的思考 下载完成!\n",
      "\n",
      "pdf下载链接： https://vpn.gufe.edu.cn/https/77726476706e69737468656265737421f2f653d2243e635930068cb8/bar/download/order?id=jBGETXBNdPImvx70aLAuJPYxPoFw%2Bp%2Bi0fIiSrcN6lVtbfyI%2F1Qmj%2FT5hty1TGNEremZrHucf0baRgl6RHeJvjnQrP31sd3qbIpJim%2FvA8Qr4qya3J1MXVAeiRx5OlqsTexkrKzFwIrft71n9EQs%2FUN1tZaOZ9Yf2CwqWvTYvKvMu%2FsTy5QX8vMQEr7plrpCAzUKdTtlPoxd5Lxav9fxLHcoBQGVUiyBxvQTy79iQIo%3D\n",
      "教育教学改革视角下口腔医学校友自我就业能力评价 下载完成!\n",
      "\n",
      "pdf下载链接： https://vpn.gufe.edu.cn/https/77726476706e69737468656265737421f2f653d2243e635930068cb8/bar/download/order?id=jBGETXBNdPImvx70aLAuJPYxPoFw%2Bp%2Bi0fIiSrcN6lW8Hv1t1n%2FOKmfGAr6sXnSEH2sD2G7he7jbcHBcDwil3znQrP31sd3qbIpJim%2FvA8Qr4qya3J1MXVAeiRx5OlqsTexkrKzFwIrft71n9EQs%2FUN1tZaOZ9Yf2CwqWvTYvKvMu%2FsTy5QX8vMQEr7plrpCvZ7EPDLBPJGQ4tuyn6rw13coBQGVUiyBxvQTy79iQIo%3D\n",
      "国家开放大学地方学院教师胜任力模型构建——以安徽省地方学院为例 下载完成!\n",
      "\n",
      "pdf下载链接： https://vpn.gufe.edu.cn/https/77726476706e69737468656265737421f2f653d2243e635930068cb8/bar/download/order?id=jBGETXBNdPImvx70aLAuJPYxPoFw%2Bp%2Bi0fIiSrcN6lWi1FO2TLQVHS8mbLbqEH%2FA3JUuTL1dvsZiVw3pzpeSMjnQrP31sd3qbIpJim%2FvA8Qr4qya3J1MXVAeiRx5OlqsTexkrKzFwIrft71n9EQs%2FUN1tZaOZ9Yf2CwqWvTYvKvMu%2FsTy5QX8vMQEr7plrpC6kKgV6JuVWs1MHnym1LHXXcoBQGVUiyBxvQTy79iQIo%3D\n",
      "临床护理教师岗位胜任力现状调查及影响因素分析 下载完成!\n",
      "\n",
      "pdf下载链接： https://vpn.gufe.edu.cn/https/77726476706e69737468656265737421f2f653d2243e635930068cb8/bar/download/order?id=jBGETXBNdPImvx70aLAuJPYxPoFw%2Bp%2Bi0fIiSrcN6lVd2oonrQle4jw1TDsK775u9OEo97ZCiBA9x8JL1XYq2TnQrP31sd3qbIpJim%2FvA8Qr4qya3J1MXVAeiRx5OlqsTexkrKzFwIrft71n9EQs%2FUN1tZaOZ9Yf2CwqWvTYvKvMu%2FsTy5QX8vMQEr7plrpCwkETNN%2BndxlCzdUfhw66K3coBQGVUiyBxvQTy79iQIo%3D\n",
      "住院医师规范化培训中外科带教师资胜任力模型构建的探索 下载完成!\n",
      "\n",
      "pdf下载链接： https://vpn.gufe.edu.cn/https/77726476706e69737468656265737421f2f653d2243e635930068cb8/bar/download/order?id=jBGETXBNdPImvx70aLAuJPYxPoFw%2Bp%2Bi0fIiSrcN6lX8BmWdS0DOvM3qWbIIH%2FxewURBIovEZWsxpaJNu72Rsqly%2BcoaUbxKfbohfVkk2oIr4qya3J1MXVAeiRx5OlqsTexkrKzFwIrft71n9EQs%2FUN1tZaOZ9Yf2CwqWvTYvKvMu%2FsTy5QX8vMQEr7plrpCJrwhRHUBpwprx%2FtJ2FSakXcoBQGVUiyBxvQTy79iQIo%3D\n",
      "创新创业教育背景下高职院校教师胜任力模型研究 下载完成!\n",
      "\n",
      "pdf下载链接： https://vpn.gufe.edu.cn/https/77726476706e69737468656265737421f2f653d2243e635930068cb8/bar/download/order?id=jBGETXBNdPImvx70aLAuJPYxPoFw%2Bp%2Bi0fIiSrcN6lVKrxJVVic3GOstXPy5rKHyVFn23Xs1FaBqYaCnwpNgcKly%2BcoaUbxKfbohfVkk2oIr4qya3J1MXVAeiRx5OlqsTexkrKzFwIrft71n9EQs%2FUN1tZaOZ9Yf2CwqWvTYvKvMu%2FsTy5QX8vMQEr7plrpCftdliQH1GdNRg6XwMfC4wXcoBQGVUiyBxvQTy79iQIo%3D\n",
      "高职教师走向卓越的路径：反思性教学实践 下载完成!\n",
      "\n",
      "pdf下载链接： https://vpn.gufe.edu.cn/https/77726476706e69737468656265737421f2f653d2243e635930068cb8/bar/download/order?id=jBGETXBNdPImvx70aLAuJPYxPoFw%2Bp%2Bi0fIiSrcN6lUoRiDqem2oWOFL3QwltXiKl61dxzuriBMEhUg4v39I6Kly%2BcoaUbxKfbohfVkk2oIr4qya3J1MXVAeiRx5OlqsTexkrKzFwIrft71n9EQs%2FUN1tZaOZ9Yf2CwqWvTYvKvMu%2FsTy5QX8vMQEr7plrpCuEjWdYgJxmQulhxRLIXCAHcoBQGVUiyBxvQTy79iQIo%3D\n",
      "临床医学博士后培养的探索与实践 下载完成!\n",
      "\n",
      "pdf下载链接： https://vpn.gufe.edu.cn/https/77726476706e69737468656265737421f2f653d2243e635930068cb8/bar/download/order?id=jBGETXBNdPImvx70aLAuJPYxPoFw%2Bp%2Bi0fIiSrcN6lV6ZwbRKfTDAmsFDOIlNabsl61dxzuriBMEhUg4v39I6Kly%2BcoaUbxKfbohfVkk2oIr4qya3J1MXVAeiRx5OlqsTexkrKzFwIrft71n9EQs%2FUN1tZaOZ9Yf2CwqWvTYvKvMu%2FsTy5QX8vMQEr7plrpCe1mAVeXHxzlFeR6soX%2BytXcoBQGVUiyBxvQTy79iQIo%3D\n",
      "西部地区本科高校青年教师胜任力的调查与思考 下载完成!\n",
      "\n",
      "pdf下载链接： https://vpn.gufe.edu.cn/https/77726476706e69737468656265737421f2f653d2243e635930068cb8/bar/download/order?id=jBGETXBNdPImvx70aLAuJPYxPoFw%2Bp%2Bi0fIiSrcN6lUDXWxKO8pMsxW2A59SBIPghaOdJsehI3jW1zNh4lP3Kqly%2BcoaUbxKfbohfVkk2oIr4qya3J1MXVAeiRx5OlqsTexkrKzFwIrft71n9EQs%2FUN1tZaOZ9Yf2CwqWvTYvKvMu%2FsTy5QX8vMQEr7plrpCqkQXAyfaSU4vccUOoruFnXcoBQGVUiyBxvQTy79iQIo%3D\n",
      "“三个系统”助力医学院校青年教师教学能力提升 下载完成!\n",
      "\n",
      "pdf下载链接： https://vpn.gufe.edu.cn/https/77726476706e69737468656265737421f2f653d2243e635930068cb8/bar/download/order?id=jBGETXBNdPImvx70aLAuJPYxPoFw%2Bp%2Bi0fIiSrcN6lVPBDjA3vC8bAffNA4jCLM5l61dxzuriBMEhUg4v39I6PxcK7E%2B1%2BNriIb3ea%2BN9O8r4qya3J1MXVAeiRx5OlqsTexkrKzFwIrft71n9EQs%2FUN1tZaOZ9Yf2CwqWvTYvKvMu%2FsTy5QX8vMQEr7plrpCDUtsl7QFL%2Bcpx%2FU%2BLcy4%2FncoBQGVUiyBxvQTy79iQIo%3D\n",
      "基于胜任力的校园足球教师培训需求分析 下载完成!\n",
      "\n",
      "pdf下载链接： https://vpn.gufe.edu.cn/https/77726476706e69737468656265737421f2f653d2243e635930068cb8/bar/download/order?id=jBGETXBNdPImvx70aLAuJPYxPoFw%2Bp%2Bi0fIiSrcN6lXH80koKIn%2F%2B%2BdKaCvfKdJVIPqgR38m15LFMAZn%2Bx0j%2F%2FxcK7E%2B1%2BNriIb3ea%2BN9O8r4qya3J1MXVAeiRx5OlqsTexkrKzFwIrft71n9EQs%2FUN1tZaOZ9Yf2CwqWvTYvKvMu%2FsTy5QX8vMQEr7plrpCKwWrgzOXrCnG9gadsopceHcoBQGVUiyBxvQTy79iQIo%3D\n",
      "高校辅导员胜任力模型研究 下载完成!\n",
      "\n",
      "pdf下载链接： https://vpn.gufe.edu.cn/https/77726476706e69737468656265737421f2f653d2243e635930068cb8/bar/download/order?id=jBGETXBNdPImvx70aLAuJPYxPoFw%2Bp%2Bi0fIiSrcN6lX8lIg8TXe2omVODGNAAcZARSIKUaJzJKUPX09ooTadl%2FxcK7E%2B1%2BNriIb3ea%2BN9O8r4qya3J1MXVAeiRx5OlqsTexkrKzFwIrft71n9EQs%2FUN1tZaOZ9Yf2CwqWvTYvKvMu%2FsTy5QX8vMQEr7plrpCC87G2OexH3ENPzPZe%2FrV7XcoBQGVUiyBxvQTy79iQIo%3D\n",
      "高校教师教学胜任力的调查与思考 下载完成!\n",
      "\n",
      "pdf下载链接： https://vpn.gufe.edu.cn/https/77726476706e69737468656265737421f2f653d2243e635930068cb8/bar/download/order?id=jBGETXBNdPImvx70aLAuJPYxPoFw%2Bp%2Bi0fIiSrcN6lXGq0qKFWeJlX4EmjzeEkU%2B7xjkRlvGO8J6KALxJ1GxhfxcK7E%2B1%2BNriIb3ea%2BN9O8r4qya3J1MXVAeiRx5OlqsTexkrKzFwIrft71n9EQs%2FUN1tZaOZ9Yf2CwqWvTYvKvMu%2FsTy5QX8vMQEr7plrpC9%2BSGJBnbShdojBNrYuj2tncoBQGVUiyBxvQTy79iQIo%3D\n",
      "小学教师教学胜任力的调查与思考 下载完成!\n",
      "\n",
      "pdf下载链接： https://vpn.gufe.edu.cn/https/77726476706e69737468656265737421f2f653d2243e635930068cb8/bar/download/order?id=jBGETXBNdPImvx70aLAuJPYxPoFw%2Bp%2Bi0fIiSrcN6lWUayJYXQsyS6fXoZfKUw22Inss8CowjKgObfdv7ZHqmvxcK7E%2B1%2BNriIb3ea%2BN9O8r4qya3J1MXVAeiRx5OlqsTexkrKzFwIrft71n9EQs%2FUN1tZaOZ9Yf2CwqWvTYvKvMu%2FsTy5QX8vMQEr7plrpCy70coHaatIM312UXGQ8uhncoBQGVUiyBxvQTy79iQIo%3D\n",
      "有效教学下的医学院校教师教学能力标准研究 下载完成!\n",
      "\n",
      "pdf下载链接： https://vpn.gufe.edu.cn/https/77726476706e69737468656265737421f2f653d2243e635930068cb8/bar/download/order?id=jBGETXBNdPImvx70aLAuJPYxPoFw%2Bp%2Bi0fIiSrcN6lVT8Z9gNf6uoDoWZI1u4pZwjy9dcRzLlhbI%2Bla6SeH4N%2FxcK7E%2B1%2BNriIb3ea%2BN9O8r4qya3J1MXVAeiRx5OlqsTexkrKzFwIrft71n9EQs%2FUN1tZaOZ9Yf2CwqWvTYvKvMu%2FsTy5QX8vMQEr7plrpCfMyHpD%2BZcg%2BurSvSxuUhyXcoBQGVUiyBxvQTy79iQIo%3D\n",
      "临床医师胜任力评价体系的实证研究 下载完成!\n",
      "\n"
     ]
    }
   ],
   "source": [
    "for link in urls:\n",
    "    r = download(link)\n",
    "    if r == False:  # 如果下载失败，返回\n",
    "        break\n",
    "print('下载完成!进程结束！')"
   ]
  },
  {
   "cell_type": "code",
   "execution_count": 3,
   "metadata": {},
   "outputs": [
    {
     "data": {
      "text/plain": [
       "<Response [200]>"
      ]
     },
     "execution_count": 3,
     "metadata": {},
     "output_type": "execute_result"
    }
   ],
   "source": [
    "headers = {\n",
    "        \"Accept\": \"text/html,application/xhtml+xml,application/xml;q=0.9,image/avif,image/webp,image/apng,*/*;q=0.8,application/signed-exchange;v=b3;q=0.7\",\n",
    "        \"Accept-Language\": \"en,zh;q=0.9,zh-CN;q=0.8\",\n",
    "        \"Cache-Control\": \"max-age=0\",\n",
    "        \"Connection\": \"keep-alive\",\n",
    "        \"Referer\": \"https://vpn.gufe.edu.cn/https/77726476706e69737468656265737421fbf952d2243e635930068cb8/kns8/AdvSearch?dbprefix=CFLS&&crossDbcodes=CJFQ%2CCDMD%2CCIPD%2CCCND%2CCISD%2CSNAD%2CBDZK%2CCCJD%2CCCVD%2CCJFN\",\n",
    "        \"Sec-Fetch-Dest\": \"document\",\n",
    "        \"Sec-Fetch-Mode\": \"navigate\",\n",
    "        \"Sec-Fetch-Site\": \"same-origin\",\n",
    "        \"Sec-Fetch-User\": \"?1\",\n",
    "        \"Upgrade-Insecure-Requests\": \"1\",\n",
    "        \"User-Agent\": \"Mozilla/5.0 (Macintosh; Intel Mac OS X 10_15_7) AppleWebKit/537.36 (KHTML, like Gecko) Chrome/115.0.0.0 Safari/537.36\",\n",
    "        \"sec-ch-ua\": \"\\\"Not/A)Brand\\\";v=\\\"99\\\", \\\"Google Chrome\\\";v=\\\"115\\\", \\\"Chromium\\\";v=\\\"115\\\"\",\n",
    "        \"sec-ch-ua-mobile\": \"?0\",\n",
    "        \"sec-ch-ua-platform\": \"\\\"macOS\\\"\"\n",
    "    }\n",
    "cookies = {\n",
    "        \"hb_MA-B8B4-DCBCC6752B4F_source\": \"i.gufe.edu.cn\",\n",
    "        \"show_vpn\": \"1\",\n",
    "        \"heartbeat\": \"1\",\n",
    "        \"show_faq\": \"0\",\n",
    "        \"wengine_vpn_ticket\": \"9ca6da0125ba78d7\",\n",
    "        \"refresh\": \"0\"\n",
    "    }\n",
    "\n",
    "re = requests.get(\"https://vpn.gufe.edu.cn/https/77726476706e69737468656265737421f2f653d2243e635930068cb8/bar/download/order?id=jBGETXBNdPImvx70aLAuJPYxPoFw%2Bp%2Bi0fIiSrcN6lXuE6C07LbesIKAHlCnJyWN%2F5MqBvFGeTDgRqR0SOBeVZ0PLIIoFLYwy5BgUEfsTywr4qya3J1MXVAeiRx5OlqsTexkrKzFwIrft71n9EQs%2FUN1tZaOZ9Yf2CwqWvTYvKvMu%2FsTy5QX8vMQEr7plrpCcF7cgn3WzyPpRAFvR27OfXcoBQGVUiyBxvQTy79iQIo%3D\",headers=headers, cookies=cookies)\n",
    "re"
   ]
  },
  {
   "cell_type": "code",
   "execution_count": 4,
   "metadata": {},
   "outputs": [
    {
     "data": {
      "text/plain": [
       "b'<!DOCTYPE html><html lang=\"\"><head><meta name=\"renderer\" content=\"webkit\" /><meta charset=\"utf-8\"><meta http-equiv=\"X-UA-Compatible\" content=\"IE=EmulateIE11\"><meta name=\"viewport\" content=\"width=device-width,initial-scale=1\"><title>\\xe6\\xbb\\x91\\xe5\\x8a\\xa8\\xe9\\xaa\\x8c\\xe8\\xaf\\x81</title>\\n<script>\\nvar __vpn_hostname_data = \"vpn.gufe.edu.cn\";\\nvar __vpn_protocol_data = \"https\";\\nvar __vpn_protocol_host = \"https://vpn.gufe.edu.cn\";\\nvar __vpn_app_hostname_data = \"77726476706e69737468656265737421f2f653d2243e635930068cb8\";\\nvar __vpn_app_protocol_data = \"https\";\\nvar __vpn_app_port_data = \"\";\\nvar __vpn_js_file = \"/wengine-vpn/js/main.js?ver=20211207\";\\nvar __vpn_worker_mode = 2;\\nvar __vpn_host_crypt = true;\\nvar __vpn_host_crypt_key = \"wrdvpnisthebest!\";\\nvar __vpn_host_crypt_iv = \"wrdvpnisthebest!\";\\n</script>\\n<script src=\"/wengine-vpn/js/main.js?ver=20211207\" charset=\"utf-8\"></script> <link href=\"css/app.abef0aa4.css?vpn-6\" rel=\"preload\" as=\"style\"><link href=\"js/app.e983ff65.js?vpn-7\" rel=\"preload\" as=\"script\"><link href=\"js/chunk-vendors.d72ad360.js?vpn-7\" rel=\"preload\" as=\"script\"><link href=\"css/app.abef0aa4.css?vpn-6\" rel=\"stylesheet\"></head><body><noscript><strong>We\\'re sorry but slider doesn\\'t work properly without JavaScript enabled. Please enable it to continue.</strong></noscript><div id=\"app\"></div><script src=\"js/chunk-vendors.d72ad360.js?vpn-7\"></script><script src=\"js/app.e983ff65.js?vpn-7\"></script></body></html>'"
      ]
     },
     "execution_count": 4,
     "metadata": {},
     "output_type": "execute_result"
    }
   ],
   "source": [
    "re.content"
   ]
  }
 ],
 "metadata": {
  "kernelspec": {
   "display_name": "base",
   "language": "python",
   "name": "python3"
  },
  "language_info": {
   "codemirror_mode": {
    "name": "ipython",
    "version": 3
   },
   "file_extension": ".py",
   "mimetype": "text/x-python",
   "name": "python",
   "nbconvert_exporter": "python",
   "pygments_lexer": "ipython3",
   "version": "3.10.12"
  },
  "orig_nbformat": 4
 },
 "nbformat": 4,
 "nbformat_minor": 2
}
